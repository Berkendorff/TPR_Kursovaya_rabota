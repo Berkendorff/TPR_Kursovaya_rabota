{
 "cells": [
  {
   "cell_type": "code",
   "execution_count": 1,
   "metadata": {},
   "outputs": [],
   "source": [
    "import pulp as p\n",
    "import pandas as pd\n",
    "import numpy as np\n",
    "from numpy import random\n",
    "import math\n",
    "import json"
   ]
  },
  {
   "cell_type": "code",
   "execution_count": 2,
   "metadata": {},
   "outputs": [],
   "source": [
    "def readJsonWithParams(filename = 'input.json'):\n",
    "    with open(filename, 'r') as reader:\n",
    "        return json.loads(reader.read().replace('\\n',''))\n",
    "params = readJsonWithParams()"
   ]
  },
  {
   "cell_type": "code",
   "execution_count": 3,
   "metadata": {},
   "outputs": [],
   "source": [
    "def getIntervalOfAlpha(alpha_means, mu, optimist = True):\n",
    "    if(mu <= 0 or mu > 1):\n",
    "        raise Exception('Mu should be less then 1 and greater then 0')\n",
    "    result = []\n",
    "    for alpha_mean in alpha_means:\n",
    "        a = alpha_mean * (1/mu - 1)**(1/2)\n",
    "        val = 0\n",
    "        if(optimist):\n",
    "            val = alpha_mean + a\n",
    "        else:\n",
    "            val = alpha_mean - a\n",
    "        result.append(int(val))\n",
    "    return result\n",
    "\n",
    "# getIntervalOfAlpha([120, 90], 0.8)"
   ]
  },
  {
   "cell_type": "code",
   "execution_count": 4,
   "metadata": {},
   "outputs": [],
   "source": [
    "def getIntervalOfC(c_means, sigmas, mu, optimist = True):\n",
    "    if(mu <= 0 or mu > 1):\n",
    "        raise Exception('Mu should be less then 1 and greater then 0')\n",
    "    result = []\n",
    "    for i in range(len(c_means)):\n",
    "        c_mean = c_means[i]\n",
    "        a = (2*math.log(1/mu))**(1/2)*sigmas[i]\n",
    "        val = 0\n",
    "        if(optimist):\n",
    "            val += c_mean + a\n",
    "        else:\n",
    "            val += c_mean - a\n",
    "        result.append(val)\n",
    "    return result\n",
    "\n",
    "# getIntervalOfC([2,3], [1,1], 0.8, True)"
   ]
  },
  {
   "cell_type": "code",
   "execution_count": 5,
   "metadata": {},
   "outputs": [],
   "source": [
    "def createCuttingMaps(alpha, t):\n",
    "    d = dict((el,[]) for el in alpha )\n",
    "    for i in range(len(alpha)):\n",
    "        for j in range (alpha[i]//t[0] + 1):\n",
    "            ost = (alpha[i] - j * t[0])\n",
    "            for n in range (ost // t[1] + 1):\n",
    "                if(n != 0 or j != 0):\n",
    "                    d[alpha[i]].append([j,n])\n",
    "    return d\n",
    "\n",
    "# createCuttingMaps(alpha, t)"
   ]
  },
  {
   "cell_type": "code",
   "execution_count": 6,
   "metadata": {},
   "outputs": [],
   "source": [
    "def solver(a, alpha, k, t, objective_function_max_number_sets = True, c = []):\n",
    "    # карты раскроя\n",
    "    d = createCuttingMaps(alpha, t)\n",
    "    \n",
    "    # план карт раскроя\n",
    "    x_ij_j = dict((el,[]) for el in alpha )\n",
    "    for i in range(len(alpha)):\n",
    "        al = alpha[i]\n",
    "        for j in range(len(d[al])):\n",
    "            di = d[al][j]\n",
    "            x_ij_j[al].append(p.LpVariable(f'x_{i+1}__{di[0]}_{di[1]}', lowBound=0, cat='Integer'))\n",
    "    \n",
    "    # создание задачи ЛП\n",
    "    lp = p.LpProblem(f'Cutting_task_max_sets_{objective_function_max_number_sets}', p.LpMaximize)\n",
    "    \n",
    "    if(objective_function_max_number_sets):\n",
    "        x = p.LpVariable(\"x\", lowBound=0, cat='Integer')\n",
    "        # целевая функция\n",
    "        lp += x\n",
    "        \n",
    "        # добавление ограничений\n",
    "        # ограничения на количество полуфабрикатов в партиях\n",
    "        for i in range(len(a)):\n",
    "            al = alpha[i]\n",
    "            x_ij = p.LpAffineExpression()\n",
    "            for el in x_ij_j[al]:\n",
    "                x_ij += el\n",
    "            lp += x_ij <= a[i]\n",
    "#         print(k)\n",
    "        # количество деталей в комплекте\n",
    "        for detail in range(2):\n",
    "            d_ij = p.LpAffineExpression()\n",
    "            for i in range(len(a)):\n",
    "                al = alpha[i]\n",
    "                for j in range(len(x_ij_j[al])):\n",
    "                    el = x_ij_j[al][j]\n",
    "                    d_ij += el * d[al][j][detail]\n",
    "            \n",
    "            lp += (d_ij >= k[detail] * x)\n",
    "            lp += (d_ij <= k[detail] * x)\n",
    "    else: \n",
    "        # целевая функция\n",
    "        x = p.LpVariable(\"x\", lowBound=0)\n",
    "        objective_func = p.LpAffineExpression()\n",
    "        for detail in range (2):\n",
    "            for i in range(len(a)):\n",
    "                al = alpha[i]\n",
    "                for j in range(len(d[al])):\n",
    "                    objective_func += c[detail] * d[al][j][detail] * x_ij_j[al][j]\n",
    "        lp+= x\n",
    "        # добавление ограничений\n",
    "        # ограничения на количество полуфабрикатов в партиях\n",
    "        for i in range(len(a)):\n",
    "            al = alpha[i]\n",
    "            x_ij = p.LpAffineExpression()\n",
    "            for el in x_ij_j[al]:\n",
    "                x_ij += el\n",
    "            lp += x_ij <= a[i]\n",
    "        # x == objective_func\n",
    "        lp += (objective_func >= x)\n",
    "        lp += (objective_func <= x)\n",
    "    \n",
    "    # решение\n",
    "    status = lp.solve()\n",
    "#     print(f'Solver: {lp.solver} ')\n",
    "    print(p.LpStatus[status])\n",
    "    if(objective_function_max_number_sets):\n",
    "        print(f'Solve: max number of sets = {p.value(x)}')\n",
    "    else: \n",
    "        print(f'Solve: max profit from details = {round(p.value(x),2)}')\n",
    "    print('Plan:')\n",
    "    for al in alpha:\n",
    "        for xiji in x_ij_j[al]:\n",
    "            if(p.value(xiji)!=0):\n",
    "                print(f'\\t{xiji} = {int(p.value(xiji))}')\n",
    "    waste = 0;\n",
    "    for detail in range(2):\n",
    "        for i in range(len(alpha)):\n",
    "            al = alpha[i]\n",
    "            for j in range(len(d[al])):\n",
    "                d_ = d[al][j][detail]\n",
    "                x_ = p.value(x_ij_j[al][j])\n",
    "#                 print(f'Waste {detail} {i} {j} = {al - t[detail] * d_ij * x_}')\n",
    "                waste +=  - t[detail] * d_ * x_\n",
    "    for i in range(len(a)):\n",
    "        waste += a[i] * alpha[i]\n",
    "        \n",
    "    print(f'\\nWaste = {waste}')\n",
    "    \n",
    "#     print(lp)\n",
    "                \n",
    "        \n",
    "\n",
    "# solver(a, alpha, k, t)"
   ]
  },
  {
   "cell_type": "code",
   "execution_count": 7,
   "metadata": {},
   "outputs": [],
   "source": [
    "# начальные значения с максимизацией количества комплектов\n",
    "a = params['a']\n",
    "alpha = params['alpha']\n",
    "k = params['k']\n",
    "t = params['t']"
   ]
  },
  {
   "cell_type": "code",
   "execution_count": 8,
   "metadata": {
    "scrolled": false
   },
   "outputs": [
    {
     "name": "stdout",
     "output_type": "stream",
     "text": [
      "Optimal\n",
      "Solve: max number of sets = 29.0\n",
      "Plan:\n",
      "\tx_1__2_4 = 16\n",
      "\tx_1__5_0 = 1\n",
      "\tx_1__5_2 = 1\n",
      "\tx_1__7_1 = 26\n",
      "\tx_2__1_3 = 37\n",
      "\n",
      "Waste = 445.0\n"
     ]
    }
   ],
   "source": [
    "# решение целочисленной задачи раскроя \n",
    "solver(a, alpha, k, t, True)"
   ]
  },
  {
   "cell_type": "code",
   "execution_count": 9,
   "metadata": {},
   "outputs": [],
   "source": [
    "# начальные значения для задач с нечеткими числами \n",
    "alpha_means = params['alpha_means']\n",
    "c_means = params['c_means']\n",
    "sigmas = params['sigmas']\n",
    "mu = params['mu']"
   ]
  },
  {
   "cell_type": "code",
   "execution_count": 10,
   "metadata": {},
   "outputs": [
    {
     "name": "stdout",
     "output_type": "stream",
     "text": [
      "alpha_optimist=[180, 135]\n",
      "c_optimist=[2.6680472308365775, 3.6680472308365775]\n"
     ]
    }
   ],
   "source": [
    "alpha_optimist = getIntervalOfAlpha(alpha_means, mu, True)\n",
    "c_optimist = getIntervalOfC(c_means, sigmas, mu, True)\n",
    "print(f'alpha_optimist={alpha_optimist}')\n",
    "print(f'c_optimist={c_optimist}')"
   ]
  },
  {
   "cell_type": "code",
   "execution_count": 11,
   "metadata": {},
   "outputs": [
    {
     "name": "stdout",
     "output_type": "stream",
     "text": [
      "alpha_pessimist=[60, 45]\n",
      "c_pessimist=[1.3319527691634225, 2.3319527691634225]\n"
     ]
    }
   ],
   "source": [
    "alpha_pessimist = getIntervalOfAlpha(alpha_means, mu, False)\n",
    "c_pessimist = getIntervalOfC(c_means, sigmas, mu, False)\n",
    "print(f'alpha_pessimist={alpha_pessimist}')\n",
    "print(f'c_pessimist={c_pessimist}')"
   ]
  },
  {
   "cell_type": "code",
   "execution_count": 12,
   "metadata": {},
   "outputs": [
    {
     "name": "stdout",
     "output_type": "stream",
     "text": [
      "Optimal\n",
      "Solve: max number of sets = 43.0\n",
      "Plan:\n",
      "\tx_1__0_1 = 1\n",
      "\tx_1__4_5 = 22\n",
      "\tx_1__9_0 = 1\n",
      "\tx_1__12_0 = 21\n",
      "\tx_2__1_5 = 38\n",
      "\n",
      "Waste = 201.0\n"
     ]
    }
   ],
   "source": [
    "# решение целочисленной задачи раскроя с нечеткими числами \n",
    "# (максимизация числа комплектов, оптимист)  \n",
    "solver(a, alpha_optimist, k, t, True)"
   ]
  },
  {
   "cell_type": "code",
   "execution_count": 13,
   "metadata": {},
   "outputs": [
    {
     "name": "stdout",
     "output_type": "stream",
     "text": [
      "Optimal\n",
      "Solve: max number of sets = 12.0\n",
      "Plan:\n",
      "\tx_1__0_2 = 42\n",
      "\tx_2__3_0 = 36\n",
      "\n",
      "Waste = 774.0\n"
     ]
    }
   ],
   "source": [
    "# решение целочисленной задачи раскроя с нечеткими числами \n",
    "# (максимизация числа комплектов, пессимист) \n",
    "solver(a, alpha_pessimist, k, t, True)"
   ]
  },
  {
   "cell_type": "code",
   "execution_count": 14,
   "metadata": {},
   "outputs": [
    {
     "name": "stdout",
     "output_type": "stream",
     "text": [
      "Optimal\n",
      "Solve: max profit from details = 2353.22\n",
      "Plan:\n",
      "\tx_1__12_0 = 45\n",
      "\tx_2__9_0 = 38\n",
      "\n",
      "Waste = 0.0\n"
     ]
    }
   ],
   "source": [
    "# решение целочисленной задачи раскроя с нечеткими числами \n",
    "# (максимизация прибыли от деталей, оптимист) \n",
    "solver(a, alpha_optimist, k, t, False, c_optimist)"
   ]
  },
  {
   "cell_type": "code",
   "execution_count": 15,
   "metadata": {},
   "outputs": [
    {
     "name": "stdout",
     "output_type": "stream",
     "text": [
      "Optimal\n",
      "Solve: max profit from details = 391.59\n",
      "Plan:\n",
      "\tx_1__4_0 = 45\n",
      "\tx_2__3_0 = 38\n",
      "\n",
      "Waste = 0.0\n"
     ]
    }
   ],
   "source": [
    "# решение целочисленной задачи раскроя с нечеткими числами \n",
    "# (максимизация прибыли от деталей, пессимист) \n",
    "solver(a, alpha_pessimist, k, t, False, c_pessimist)"
   ]
  },
  {
   "cell_type": "code",
   "execution_count": 16,
   "metadata": {},
   "outputs": [
    {
     "name": "stdout",
     "output_type": "stream",
     "text": [
      "Optimal\n",
      "Solve: max profit from details = 1062.0\n",
      "Plan:\n",
      "\tx_1__8_0 = 45\n",
      "\tx_2__3_1 = 38\n",
      "\n",
      "Waste = 114.0\n"
     ]
    }
   ],
   "source": [
    "solver(a, [120, 72], k, t, False, c_means)"
   ]
  },
  {
   "cell_type": "code",
   "execution_count": 17,
   "metadata": {},
   "outputs": [
    {
     "name": "stdout",
     "output_type": "stream",
     "text": [
      "Optimal\n",
      "Solve: max number of sets = 26.0\n",
      "Plan:\n",
      "\tx_1__0_5 = 13\n",
      "\tx_1__2_3 = 1\n",
      "\tx_1__8_0 = 29\n",
      "\tx_2__0_3 = 38\n",
      "\n",
      "Waste = 258.0\n"
     ]
    }
   ],
   "source": [
    "solver(a, [120, 72], k, t, True)"
   ]
  },
  {
   "cell_type": "code",
   "execution_count": 18,
   "metadata": {},
   "outputs": [],
   "source": [
    "# a = [random.randint(100000,200000) for x in range(2)]\n",
    "# alpha = [random.randint(1000,10000) for x in range(2)]\n",
    "# k = [random.randint(1,10) for x in range(2)]\n",
    "# t = [random.randint(5,30) for x in range(2)]\n",
    "# c = [random.randint(10,30) for x in range(2)]\n",
    "# print(f'a = {a}')\n",
    "# print(f'alpha = {alpha}')\n",
    "# print(f'k = {k}')\n",
    "# print(f't = {t}')\n",
    "# print(f'c = {c}')"
   ]
  },
  {
   "cell_type": "code",
   "execution_count": 19,
   "metadata": {},
   "outputs": [],
   "source": [
    "# максимизация количества наборов при случайных параметрах\n",
    "# solver(a, alpha, k, t, True)"
   ]
  },
  {
   "cell_type": "code",
   "execution_count": 20,
   "metadata": {},
   "outputs": [],
   "source": [
    "# максимизация прибили при случайных параметрах\n",
    "# solver(a, alpha, k, t, False, c)"
   ]
  },
  {
   "cell_type": "code",
   "execution_count": 21,
   "metadata": {},
   "outputs": [
    {
     "name": "stdout",
     "output_type": "stream",
     "text": [
      "a = [21, 14]\n",
      "alpha = [176, 143]\n",
      "k = [3, 5]\n",
      "t = [7, 11]\n",
      "c = [10, 12]\n",
      "sigmas = [1.46023436 1.31027053]\n",
      "mu = 0.66\n"
     ]
    }
   ],
   "source": [
    "a = [random.randint(10,100) for x in range(2)]\n",
    "alpha = [random.randint(50,200) for x in range(2)]\n",
    "k = [random.randint(1,10) for x in range(2)]\n",
    "t = [random.randint(5,30) for x in range(2)]\n",
    "c = [random.randint(10,30) for x in range(2)]\n",
    "sigmas = random.rand(2) + 1\n",
    "mu = round(random.rand()/2,2) + 0.5\n",
    "print(f'a = {a}')\n",
    "print(f'alpha = {alpha}')\n",
    "print(f'k = {k}')\n",
    "print(f't = {t}')\n",
    "print(f'c = {c}')\n",
    "print(f'sigmas = {sigmas}')\n",
    "print(f'mu = {mu}')"
   ]
  },
  {
   "cell_type": "code",
   "execution_count": 22,
   "metadata": {},
   "outputs": [
    {
     "name": "stdout",
     "output_type": "stream",
     "text": [
      "alpha_optimist=[302, 245]\n",
      "c_optimist=[11.331162724259038, 13.194454350147161]\n"
     ]
    }
   ],
   "source": [
    "alpha_optimist = getIntervalOfAlpha(alpha, mu, True)\n",
    "c_optimist = getIntervalOfC(c, sigmas, mu, True)\n",
    "print(f'alpha_optimist={alpha_optimist}')\n",
    "print(f'c_optimist={c_optimist}')"
   ]
  },
  {
   "cell_type": "code",
   "execution_count": 23,
   "metadata": {},
   "outputs": [
    {
     "name": "stdout",
     "output_type": "stream",
     "text": [
      "alpha_pessimist=[49, 40]\n",
      "c_pessimist=[8.668837275740962, 10.805545649852839]\n"
     ]
    }
   ],
   "source": [
    "alpha_pessimist = getIntervalOfAlpha(alpha, mu, False)\n",
    "c_pessimist = getIntervalOfC(c, sigmas, mu, False)\n",
    "print(f'alpha_pessimist={alpha_pessimist}')\n",
    "print(f'c_pessimist={c_pessimist}')"
   ]
  },
  {
   "cell_type": "code",
   "execution_count": 24,
   "metadata": {},
   "outputs": [
    {
     "name": "stdout",
     "output_type": "stream",
     "text": [
      "Optimal\n",
      "Solve: max number of sets = 128.0\n",
      "Plan:\n",
      "\tx_1__0_25 = 1\n",
      "\tx_1__5_24 = 1\n",
      "\tx_1__7_23 = 3\n",
      "\tx_1__18_16 = 15\n",
      "\tx_1__29_9 = 1\n",
      "\tx_2__2_21 = 13\n",
      "\tx_2__33_0 = 1\n",
      "\n",
      "Waste = 44.0\n"
     ]
    }
   ],
   "source": [
    "# решение целочисленной задачи раскроя с нечеткими числами  \n",
    "# при случайных параметрах\n",
    "# (максимизация числа комплектов, оптимист)  \n",
    "solver(a, alpha_optimist, k, t, True)"
   ]
  },
  {
   "cell_type": "code",
   "execution_count": 25,
   "metadata": {},
   "outputs": [
    {
     "name": "stdout",
     "output_type": "stream",
     "text": [
      "Optimal\n",
      "Solve: max number of sets = 20.0\n",
      "Plan:\n",
      "\tx_1__1_1 = 1\n",
      "\tx_1__2_3 = 19\n",
      "\tx_1__7_0 = 1\n",
      "\tx_2__1_3 = 14\n",
      "\n",
      "Waste = 69.0\n"
     ]
    }
   ],
   "source": [
    "# решение целочисленной задачи раскроя с нечеткими числами  \n",
    "# при случайных параметрах\n",
    "# (максимизация числа комплектов, пессимист) \n",
    "solver(a, alpha_pessimist, k, t, True)"
   ]
  },
  {
   "cell_type": "code",
   "execution_count": 26,
   "metadata": {},
   "outputs": [
    {
     "name": "stdout",
     "output_type": "stream",
     "text": [
      "Optimal\n",
      "Solve: max profit from details = 15784.31\n",
      "Plan:\n",
      "\tx_1__43_0 = 21\n",
      "\tx_2__35_0 = 14\n",
      "\n",
      "Waste = 21.0\n"
     ]
    }
   ],
   "source": [
    "# решение целочисленной задачи раскроя с нечеткими числами \n",
    "# при случайных параметрах\n",
    "# (максимизация прибыли от деталей, оптимист) \n",
    "solver(a, alpha_optimist, k, t, False, c_optimist)"
   ]
  },
  {
   "cell_type": "code",
   "execution_count": 27,
   "metadata": {},
   "outputs": [
    {
     "name": "stdout",
     "output_type": "stream",
     "text": [
      "Optimal\n",
      "Solve: max profit from details = 1911.05\n",
      "Plan:\n",
      "\tx_1__7_0 = 21\n",
      "\tx_2__4_1 = 14\n",
      "\n",
      "Waste = 14.0\n"
     ]
    }
   ],
   "source": [
    "# решение целочисленной задачи раскроя с нечеткими числами \n",
    "# при случайных параметрах\n",
    "# (максимизация прибыли от деталей, пессимист) \n",
    "solver(a, alpha_pessimist, k, t, False, c_pessimist)\n"
   ]
  },
  {
   "cell_type": "code",
   "execution_count": null,
   "metadata": {},
   "outputs": [],
   "source": []
  },
  {
   "cell_type": "code",
   "execution_count": null,
   "metadata": {},
   "outputs": [],
   "source": []
  },
  {
   "cell_type": "code",
   "execution_count": null,
   "metadata": {},
   "outputs": [],
   "source": []
  }
 ],
 "metadata": {
  "kernelspec": {
   "display_name": "Python 3",
   "language": "python",
   "name": "python3"
  },
  "language_info": {
   "codemirror_mode": {
    "name": "ipython",
    "version": 3
   },
   "file_extension": ".py",
   "mimetype": "text/x-python",
   "name": "python",
   "nbconvert_exporter": "python",
   "pygments_lexer": "ipython3",
   "version": "3.8.5"
  }
 },
 "nbformat": 4,
 "nbformat_minor": 4
}
